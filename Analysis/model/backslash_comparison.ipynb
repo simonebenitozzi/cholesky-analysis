{
 "cells": [
  {
   "cell_type": "markdown",
   "metadata": {
    "pycharm": {
     "name": "#%% md\n"
    }
   },
   "source": [
    "Questo notebook analizza e confronta i risultati delle due implementazioni in MATLAB della decompsizione di Cholesky\n",
    "\n",
    "La prima fa uso del metodo *chol()*, restituendo la decomposizione, su cui va poi calcolato il sistema lineare, attraverso permutazione delle righe della matrice\n",
    "\n",
    "La seconda utilizza direttamente la funzione backslash (\\\\) di MATLAB, che fa uso dietro le quinte della decomposizione di CHolesky se si rende conto che la matrice in input è SDP\n",
    "\n",
    "Il confronto è stato fatto confrontando le due implementazioni (chol vs \\\\) su entrambi gli OS \n",
    "\n",
    "Non aveva senso confrontare la stessa implementazione (chol vs chol) e (\\\\ vs \\\\) sui due diversi OS, in quanto i risulati erano molto simili tra loro, e l'analisi dettagliata per il confronto tra i sistemi operativi è stata già vista nelle analisi MATLAB vs Python"
   ]
  },
  {
   "cell_type": "code",
   "execution_count": 24,
   "metadata": {
    "pycharm": {
     "name": "#%%\n"
    }
   },
   "outputs": [],
   "source": [
    "import numpy as np\n",
    "import pandas as pd\n",
    "import matplotlib.pyplot as plt\n",
    "from matplotlib.pyplot import figure\n",
    "from Analysis.model.helper import *\n",
    "\n",
    "import os\n",
    "\n",
    "import sklearn\n",
    "from sklearn.cluster import KMeans"
   ]
  },
  {
   "cell_type": "code",
   "execution_count": 25,
   "metadata": {
    "pycharm": {
     "name": "#%%\n"
    }
   },
   "outputs": [],
   "source": [
    "from Analysis.resources.costants import RESOURCES_DIRECTORY\n",
    "\n",
    "# Data Loading\n",
    "\n",
    "data = pd.read_csv(os.path.join(RESOURCES_DIRECTORY,\"data.csv\"))\n",
    "data_chol = data[(data.Language == 0)]      # just MATLAB data\n",
    "data_chol_win, data_chol_lin = get_data_sorted(\"Rows\", data_chol)\n",
    "\n",
    "data_backslash = pd.read_csv(os.path.join(RESOURCES_DIRECTORY,\"dataBackslash.csv\"))\n",
    "data_backslash_win, data_backslash_lin = get_data_sorted(\"Rows\", data_backslash)\n",
    "\n",
    "matrix_names = data_chol_win.Name.tolist()"
   ]
  },
  {
   "cell_type": "markdown",
   "metadata": {
    "pycharm": {
     "name": "#%% md\n"
    }
   },
   "source": [
    "# Error\n",
    "\n",
    "Valori di errore praticamente uguali, differenze minime ed impercettibili (per entrambi gli OS)"
   ]
  },
  {
   "cell_type": "markdown",
   "metadata": {
    "pycharm": {
     "name": "#%% md\n"
    }
   },
   "source": [
    "## Windows"
   ]
  },
  {
   "cell_type": "code",
   "execution_count": 26,
   "metadata": {
    "pycharm": {
     "name": "#%%\n"
    }
   },
   "outputs": [
    {
     "name": "stdout",
     "output_type": "stream",
     "text": [
      "List of errors:\n",
      " [] \n",
      " []\n"
     ]
    },
    {
     "ename": "TypeError",
     "evalue": "plot() missing 2 required positional arguments: 'legend1' and 'legend2'",
     "output_type": "error",
     "traceback": [
      "\u001B[0;31m---------------------------------------------------------------------------\u001B[0m",
      "\u001B[0;31mTypeError\u001B[0m                                 Traceback (most recent call last)",
      "Input \u001B[0;32mIn [26]\u001B[0m, in \u001B[0;36m<cell line: 2>\u001B[0;34m()\u001B[0m\n\u001B[1;32m      1\u001B[0m \u001B[38;5;28mprint\u001B[39m(\u001B[38;5;124m\"\u001B[39m\u001B[38;5;124mList of errors:\u001B[39m\u001B[38;5;130;01m\\n\u001B[39;00m\u001B[38;5;124m\"\u001B[39m, data_chol_win[\u001B[38;5;124m\"\u001B[39m\u001B[38;5;124mError\u001B[39m\u001B[38;5;124m\"\u001B[39m]\u001B[38;5;241m.\u001B[39mto_list(), \u001B[38;5;124m\"\u001B[39m\u001B[38;5;130;01m\\n\u001B[39;00m\u001B[38;5;124m\"\u001B[39m, data_backslash_win[\u001B[38;5;124m\"\u001B[39m\u001B[38;5;124mError\u001B[39m\u001B[38;5;124m\"\u001B[39m]\u001B[38;5;241m.\u001B[39mto_list())\n\u001B[0;32m----> 2\u001B[0m \u001B[43mplot\u001B[49m\u001B[43m(\u001B[49m\u001B[43mmatrix_names\u001B[49m\u001B[43m,\u001B[49m\u001B[43m \u001B[49m\u001B[43mdata_chol_win\u001B[49m\u001B[43m[\u001B[49m\u001B[38;5;124;43m\"\u001B[39;49m\u001B[38;5;124;43mError\u001B[39;49m\u001B[38;5;124;43m\"\u001B[39;49m\u001B[43m]\u001B[49m\u001B[43m,\u001B[49m\u001B[43m \u001B[49m\u001B[43mdata_backslash_win\u001B[49m\u001B[43m[\u001B[49m\u001B[38;5;124;43m\"\u001B[39;49m\u001B[38;5;124;43mError\u001B[39;49m\u001B[38;5;124;43m\"\u001B[39;49m\u001B[43m]\u001B[49m\u001B[43m,\u001B[49m\u001B[43m \u001B[49m\u001B[38;5;124;43m\"\u001B[39;49m\u001B[38;5;124;43mMatrix (sorted by size)\u001B[39;49m\u001B[38;5;124;43m\"\u001B[39;49m\u001B[43m,\u001B[49m\u001B[43m \u001B[49m\u001B[38;5;124;43m\"\u001B[39;49m\u001B[38;5;124;43mRelative Error\u001B[39;49m\u001B[38;5;124;43m\"\u001B[39;49m\u001B[43m,\u001B[49m\u001B[43m \u001B[49m\u001B[38;5;124;43m\"\u001B[39;49m\u001B[38;5;124;43mWindows Relative Error - chol vs backslash\u001B[39;49m\u001B[38;5;124;43m\"\u001B[39;49m\u001B[43m,\u001B[49m\u001B[43m \u001B[49m\u001B[43mLOG_SCALE\u001B[49m\u001B[38;5;241;43m=\u001B[39;49m\u001B[38;5;28;43;01mTrue\u001B[39;49;00m\u001B[43m)\u001B[49m\n",
      "\u001B[0;31mTypeError\u001B[0m: plot() missing 2 required positional arguments: 'legend1' and 'legend2'"
     ]
    }
   ],
   "source": [
    "print(\"List of errors:\\n\", data_chol_win[\"Error\"].to_list(), \"\\n\", data_backslash_win[\"Error\"].to_list())\n",
    "plot(matrix_names, data_chol_win[\"Error\"], data_backslash_win[\"Error\"], \"Matrix (sorted by size)\", \"Relative Error\", \"Windows Relative Error - chol vs backslash\", LOG_SCALE=True)"
   ]
  },
  {
   "cell_type": "code",
   "execution_count": null,
   "metadata": {
    "pycharm": {
     "name": "#%%\n"
    }
   },
   "outputs": [],
   "source": [
    "bar_plot(matrix_names, data_chol_win[\"Error\"], data_backslash_win[\"Error\"], \"Matrix (sorted by size)\", \"Relative Error\", \"WIndows Relative Error - chol vs backslash\", LOG_SCALE=True)"
   ]
  },
  {
   "cell_type": "markdown",
   "metadata": {
    "pycharm": {
     "name": "#%% md\n"
    }
   },
   "source": [
    "## Linux"
   ]
  },
  {
   "cell_type": "code",
   "execution_count": null,
   "metadata": {
    "pycharm": {
     "name": "#%%\n"
    }
   },
   "outputs": [],
   "source": [
    "print(\"List of errors:\\n\", data_chol_lin[\"Error\"].to_list(), \"\\n\", data_backslash_lin[\"Error\"].to_list())\n",
    "plot(matrix_names, data_chol_lin[\"Error\"], data_backslash_lin[\"Error\"], \"Matrix (sorted by size)\", \"Relative Error\", \"Linux Relative Error - chol vs backslash\", LOG_SCALE=True)"
   ]
  },
  {
   "cell_type": "code",
   "execution_count": null,
   "metadata": {
    "pycharm": {
     "name": "#%%\n"
    }
   },
   "outputs": [],
   "source": [
    "bar_plot(matrix_names, data_chol_lin[\"Error\"], data_backslash_lin[\"Error\"], \"Matrix (sorted by size)\", \"Relative Error\", \"Linux Relative Error - chol vs backslash\", LOG_SCALE=True)"
   ]
  },
  {
   "cell_type": "markdown",
   "metadata": {
    "pycharm": {
     "name": "#%% md\n"
    }
   },
   "source": [
    "# Memory\n",
    "\n",
    "Backslah funziona nettamente meglio, il che è dovuto al fatto che probabilmente effettua delle operazioni particolari sulla matrice di decomposizione che ottimizzano l'utilizzo della memoria"
   ]
  },
  {
   "cell_type": "markdown",
   "metadata": {
    "pycharm": {
     "name": "#%% md\n"
    }
   },
   "source": [
    "## Windows"
   ]
  },
  {
   "cell_type": "code",
   "execution_count": null,
   "metadata": {
    "pycharm": {
     "name": "#%%\n"
    }
   },
   "outputs": [],
   "source": [
    "print(\"List of memory usage:\\n\", data_chol_win[\"Memory\"].to_list(), \"\\n\", data_backslash_win[\"Memory\"].to_list())\n",
    "plot(matrix_names, data_chol_win[\"Memory\"], data_backslash_win[\"Memory\"], \"Matrix (sorted by size)\", \"Memory Usage (MB)\", \"Windows Memory Usage - chol vs backslash\")"
   ]
  },
  {
   "cell_type": "code",
   "execution_count": null,
   "metadata": {
    "pycharm": {
     "name": "#%%\n"
    }
   },
   "outputs": [],
   "source": [
    "bar_plot(matrix_names, data_chol_win[\"Memory\"], data_backslash_win[\"Memory\"], \"Matrix (sorted by size)\", \"Memory Usage (MB)\", \"Windows Memory Usage - chol vs backslash\")"
   ]
  },
  {
   "cell_type": "markdown",
   "metadata": {
    "pycharm": {
     "name": "#%% md\n"
    }
   },
   "source": [
    "## Linux"
   ]
  },
  {
   "cell_type": "code",
   "execution_count": null,
   "metadata": {
    "pycharm": {
     "name": "#%%\n"
    }
   },
   "outputs": [],
   "source": [
    "print(\"List of memory usage:\\n\", data_chol_lin[\"Memory\"].to_list(), \"\\n\", data_backslash_lin[\"Memory\"].to_list())\n",
    "plot(matrix_names, data_chol_lin[\"Memory\"], data_backslash_lin[\"Memory\"], \"Matrix (sorted by size)\", \"Memory Usage (MB)\", \"Linux Memory Usage - chol vs backslash\")"
   ]
  },
  {
   "cell_type": "code",
   "execution_count": null,
   "metadata": {
    "pycharm": {
     "name": "#%%\n"
    }
   },
   "outputs": [],
   "source": [
    "bar_plot(matrix_names, data_chol_lin[\"Memory\"], data_backslash_lin[\"Memory\"], \"Matrix (sorted by size)\", \"Memory Usage (MB)\", \"Linux Memory Usage - chol vs backslash\")"
   ]
  },
  {
   "cell_type": "markdown",
   "metadata": {
    "pycharm": {
     "name": "#%% md\n"
    }
   },
   "source": [
    "# Time\n",
    "\n",
    "\n",
    "Backslah funziona nettamente meglio, il che è dovuto al fatto che probabilmente effettua delle operazioni particolari sulla matrice di decomposizione che ottimizzano il tempo di esecuzione"
   ]
  },
  {
   "cell_type": "markdown",
   "metadata": {
    "pycharm": {
     "name": "#%% md\n"
    }
   },
   "source": [
    "## Windows"
   ]
  },
  {
   "cell_type": "code",
   "execution_count": null,
   "metadata": {
    "pycharm": {
     "name": "#%%\n"
    }
   },
   "outputs": [],
   "source": [
    "print(\"List of time elapsed:\\n\", data_chol_win[\"Time\"].to_list(), \"\\n\", data_backslash_win[\"Time\"].to_list())\n",
    "plot(matrix_names, data_chol_win[\"Time\"], data_backslash_win[\"Time\"], \"Matrix (sorted by size)\", \"Time Elapsed (seconds)\", \"Windows Time Elapsed - chol vs backslash\")"
   ]
  },
  {
   "cell_type": "code",
   "execution_count": null,
   "metadata": {
    "pycharm": {
     "name": "#%%\n"
    }
   },
   "outputs": [],
   "source": [
    "bar_plot(matrix_names, data_chol_win[\"Time\"], data_backslash_win[\"Time\"], \"Matrix (sorted by size)\", \"Time Elapsed (seconds)\", \"Windows Time Elapsed - chol vs backslash\")"
   ]
  },
  {
   "cell_type": "markdown",
   "metadata": {
    "pycharm": {
     "name": "#%% md\n"
    }
   },
   "source": [
    "## Linux"
   ]
  },
  {
   "cell_type": "code",
   "execution_count": null,
   "metadata": {
    "pycharm": {
     "name": "#%%\n"
    }
   },
   "outputs": [],
   "source": [
    "print(\"List of time elapsed:\\n\", data_chol_lin[\"Time\"].to_list(), \"\\n\", data_backslash_lin[\"Time\"].to_list())\n",
    "plot(matrix_names, data_chol_lin[\"Time\"], data_backslash_lin[\"Time\"], \"Matrix (sorted by size)\", \"Time Elapsed (seconds)\", \"Linux Time Elapsed - chol vs backslash\")"
   ]
  },
  {
   "cell_type": "code",
   "execution_count": null,
   "metadata": {
    "pycharm": {
     "name": "#%%\n"
    }
   },
   "outputs": [],
   "source": [
    "bar_plot(matrix_names, data_chol_lin[\"Time\"], data_backslash_lin[\"Time\"], \"Matrix (sorted by size)\", \"Time Elapsed (seconds)\", \"Linux Time Elapsed - chol vs backslash\")"
   ]
  }
 ],
 "metadata": {
  "interpreter": {
   "hash": "497aaa5cf2df58865cc1130b0f092b7e63a2e282c2bb7e6927e789b1357cb278"
  },
  "kernelspec": {
   "display_name": "Python 3.10.2 64-bit",
   "language": "python",
   "name": "python3"
  },
  "language_info": {
   "codemirror_mode": {
    "name": "ipython",
    "version": 3
   },
   "file_extension": ".py",
   "mimetype": "text/x-python",
   "name": "python",
   "nbconvert_exporter": "python",
   "pygments_lexer": "ipython3",
   "version": "3.10.2"
  },
  "orig_nbformat": 4
 },
 "nbformat": 4,
 "nbformat_minor": 2
}