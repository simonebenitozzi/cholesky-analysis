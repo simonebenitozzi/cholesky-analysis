{
 "cells": [
  {
   "cell_type": "code",
   "execution_count": null,
   "metadata": {
    "pycharm": {
     "name": "#%%\n"
    }
   },
   "outputs": [],
   "source": [
    "import numpy as np\n",
    "import pandas as pd\n",
    "import matplotlib.pyplot as plt\n",
    "from matplotlib.pyplot import figure\n",
    "\n",
    "import os\n",
    "\n",
    "import sklearn\n",
    "from sklearn.cluster import KMeans"
   ]
  },
  {
   "cell_type": "code",
   "execution_count": null,
   "metadata": {
    "collapsed": false,
    "pycharm": {
     "name": "#%%\n"
    }
   },
   "outputs": [],
   "source": [
    "X_LABEL = \"X_LABEL\"\n",
    "Y_LABEL = \"Y_LABEL\"\n",
    "LOG_SCALE = \"LOG_SCALE\"\n",
    "\n",
    "def get_data_sorted(name, data):\n",
    "    \"\"\"\n",
    "    Takes the dataset and the name of column on which it sorts\n",
    "    return python, matlab dataset\n",
    "    \"\"\"\n",
    "    data = data.sort_values(by=[name])  # sort sulle dimensioni delle matrici in ordine crescente\n",
    "    data_python = data.loc[data['Language'] == 1]\n",
    "    data_matlab = data.loc[data['Language'] == 0]\n",
    "    return data_python, data_matlab\n",
    "\n",
    "\n",
    "def read_data(name):\n",
    "    from Analysis.resources.costants import RESOURCES_DIRECTORY\n",
    "    path = os.path.join(RESOURCES_DIRECTORY, name)\n",
    "    return pd.read_csv(path)\n",
    "\n",
    "\n",
    "def write_data(df, name):\n",
    "    from Analysis.resources.costants import RESOURCES_DIRECTORY\n",
    "    path = os.path.join(RESOURCES_DIRECTORY, name)\n",
    "    df.to_csv(path, index=False)\n",
    "\n",
    "def plot(labels, data_py, data_matlab, x_name, y_name, title, legend1, legend2, **keywords):\n",
    "\n",
    "    figure(figsize=(20, 6), dpi=80)\n",
    "    title = title + \" \" + \"(Line Plot)\"\n",
    "\n",
    "    plt.plot(labels, data_py, label=legend1, linestyle=\"-\")\n",
    "    plt.plot(labels, data_matlab, label=legend2, linestyle=\"--\")\n",
    "    show(x_name, y_name, title, **keywords)\n",
    "\n",
    "\n",
    "def bar_plot(labels, data_py, data_matlab, x_name, y_name, title, legend1, legend2, **keywords):\n",
    "    figure(figsize=(20, 6), dpi=80)\n",
    "    title = title + \" \" + \"(Bar Plot)\"\n",
    "\n",
    "    x_axis = np.arange(len(labels))\n",
    "\n",
    "    # Multi bar Chart\n",
    "\n",
    "    plt.bar(x_axis -0.2, data_py, width=0.4, label = legend1)\n",
    "    plt.bar(x_axis +0.2, data_matlab, width=0.4, label = legend2)\n",
    "\n",
    "    # Xticks\n",
    "\n",
    "    plt.xticks(x_axis, labels)\n",
    "    show(x_name, y_name, title, **keywords)\n",
    "\n",
    "\n",
    "\n",
    "def show(x_name, y_name, title, **keywords):\n",
    "\n",
    "    x_label, y_label = \"\", \"\"\n",
    "    if X_LABEL in keywords.keys():\n",
    "        x_label = f\"({keywords[X_LABEL]})\"\n",
    "    if Y_LABEL in keywords.keys():\n",
    "        y_label = f\"({keywords[Y_LABEL]})\"\n",
    "    if LOG_SCALE in keywords.keys():\n",
    "        plt.yscale('log') # logarithmic scale\n",
    "\n",
    "    plt.xlabel(f\"{x_name} {x_label}\",  labelpad=15, fontsize=12, color=\"#333533\")\n",
    "    plt.ylabel(f\"{y_name} {y_label}\",  labelpad=15, fontsize=12, color=\"#333533\")\n",
    "    plt.title(title, fontsize=18, color=\"#333533\", pad=35)\n",
    "\n",
    "    # removing axes from the figure\n",
    "    plt.gca().spines['right'].set_visible(False)\n",
    "    plt.gca().spines['top'].set_visible(False)\n",
    "    plt.legend(loc='upper center',ncol=2,frameon=False)\n",
    "    plt.show()\n",
    "\n",
    "\n",
    "def correlation(x, y, x_name, y_name):\n",
    "    figure(figsize=(20, 6), dpi=80)\n",
    "    title = f\"Scatter-plot variables '{x_name}' and '{y_name}'\"\n",
    "    my_rho = np.corrcoef(x, y) # Correlation Coefficient\n",
    "    print(my_rho)\n",
    "\n",
    "    plt.xscale('log')\n",
    "    plt.yscale('log')\n",
    "    plt.scatter(x, y)\n",
    "    plt.plot(x, y, color = \"g\")\n",
    "    show(x_name, y_name, title)\n",
    "\n"
   ]
  },
  {
   "cell_type": "code",
   "execution_count": null,
   "metadata": {
    "pycharm": {
     "name": "#%%\n"
    }
   },
   "outputs": [
    {
     "data": {
      "text/html": [
       "<div>\n",
       "<style scoped>\n",
       "    .dataframe tbody tr th:only-of-type {\n",
       "        vertical-align: middle;\n",
       "    }\n",
       "\n",
       "    .dataframe tbody tr th {\n",
       "        vertical-align: top;\n",
       "    }\n",
       "\n",
       "    .dataframe thead th {\n",
       "        text-align: right;\n",
       "    }\n",
       "</style>\n",
       "<table border=\"1\" class=\"dataframe\">\n",
       "  <thead>\n",
       "    <tr style=\"text-align: right;\">\n",
       "      <th></th>\n",
       "      <th>Name</th>\n",
       "      <th>Rows</th>\n",
       "      <th>Columns</th>\n",
       "      <th>Error</th>\n",
       "      <th>Memory</th>\n",
       "      <th>Time</th>\n",
       "      <th>Language</th>\n",
       "      <th>OS</th>\n",
       "      <th>Nnz</th>\n",
       "      <th>Cond</th>\n",
       "    </tr>\n",
       "  </thead>\n",
       "  <tbody>\n",
       "    <tr>\n",
       "      <th>0</th>\n",
       "      <td>apache2</td>\n",
       "      <td>715176</td>\n",
       "      <td>715176</td>\n",
       "      <td>2.235941e-08</td>\n",
       "      <td>0.004471</td>\n",
       "      <td>66.232192</td>\n",
       "      <td>1</td>\n",
       "      <td>0</td>\n",
       "      <td>4817870</td>\n",
       "      <td>5.316861e+06</td>\n",
       "    </tr>\n",
       "    <tr>\n",
       "      <th>4</th>\n",
       "      <td>cfd1</td>\n",
       "      <td>70656</td>\n",
       "      <td>70656</td>\n",
       "      <td>6.628463e-12</td>\n",
       "      <td>0.003326</td>\n",
       "      <td>4.461982</td>\n",
       "      <td>1</td>\n",
       "      <td>0</td>\n",
       "      <td>1825580</td>\n",
       "      <td>1.335081e+06</td>\n",
       "    </tr>\n",
       "    <tr>\n",
       "      <th>8</th>\n",
       "      <td>cfd2</td>\n",
       "      <td>123440</td>\n",
       "      <td>123440</td>\n",
       "      <td>1.334161e-10</td>\n",
       "      <td>0.003326</td>\n",
       "      <td>10.917099</td>\n",
       "      <td>1</td>\n",
       "      <td>0</td>\n",
       "      <td>3085406</td>\n",
       "      <td>3.728473e+06</td>\n",
       "    </tr>\n",
       "    <tr>\n",
       "      <th>12</th>\n",
       "      <td>ex15</td>\n",
       "      <td>6867</td>\n",
       "      <td>6867</td>\n",
       "      <td>5.281170e-05</td>\n",
       "      <td>0.003326</td>\n",
       "      <td>0.015078</td>\n",
       "      <td>1</td>\n",
       "      <td>0</td>\n",
       "      <td>98671</td>\n",
       "      <td>1.432642e+13</td>\n",
       "    </tr>\n",
       "    <tr>\n",
       "      <th>16</th>\n",
       "      <td>G3_circuit</td>\n",
       "      <td>1585478</td>\n",
       "      <td>1585478</td>\n",
       "      <td>3.452568e-09</td>\n",
       "      <td>210.620559</td>\n",
       "      <td>27.939265</td>\n",
       "      <td>1</td>\n",
       "      <td>0</td>\n",
       "      <td>7660826</td>\n",
       "      <td>2.238425e+07</td>\n",
       "    </tr>\n",
       "    <tr>\n",
       "      <th>20</th>\n",
       "      <td>parabolic_fem</td>\n",
       "      <td>525825</td>\n",
       "      <td>525825</td>\n",
       "      <td>8.836779e-10</td>\n",
       "      <td>0.003326</td>\n",
       "      <td>6.439602</td>\n",
       "      <td>1</td>\n",
       "      <td>0</td>\n",
       "      <td>3674625</td>\n",
       "      <td>2.110820e+05</td>\n",
       "    </tr>\n",
       "    <tr>\n",
       "      <th>24</th>\n",
       "      <td>shallow_water1</td>\n",
       "      <td>81920</td>\n",
       "      <td>81920</td>\n",
       "      <td>6.923992e-14</td>\n",
       "      <td>9.067514</td>\n",
       "      <td>0.615064</td>\n",
       "      <td>1</td>\n",
       "      <td>0</td>\n",
       "      <td>327680</td>\n",
       "      <td>3.628000e+00</td>\n",
       "    </tr>\n",
       "  </tbody>\n",
       "</table>\n",
       "</div>"
      ],
      "text/plain": [
       "              Name     Rows  Columns         Error      Memory       Time  \\\n",
       "0          apache2   715176   715176  2.235941e-08    0.004471  66.232192   \n",
       "4             cfd1    70656    70656  6.628463e-12    0.003326   4.461982   \n",
       "8             cfd2   123440   123440  1.334161e-10    0.003326  10.917099   \n",
       "12            ex15     6867     6867  5.281170e-05    0.003326   0.015078   \n",
       "16      G3_circuit  1585478  1585478  3.452568e-09  210.620559  27.939265   \n",
       "20   parabolic_fem   525825   525825  8.836779e-10    0.003326   6.439602   \n",
       "24  shallow_water1    81920    81920  6.923992e-14    9.067514   0.615064   \n",
       "\n",
       "    Language  OS      Nnz          Cond  \n",
       "0          1   0  4817870  5.316861e+06  \n",
       "4          1   0  1825580  1.335081e+06  \n",
       "8          1   0  3085406  3.728473e+06  \n",
       "12         1   0    98671  1.432642e+13  \n",
       "16         1   0  7660826  2.238425e+07  \n",
       "20         1   0  3674625  2.110820e+05  \n",
       "24         1   0   327680  3.628000e+00  "
      ]
     },
     "metadata": {},
     "output_type": "display_data"
    }
   ],
   "source": [
    "data = read_data(\"data.csv\")\n",
    "\n",
    "# drops rows with duplicat Name, since conditioning and nnz is the same\n",
    "unique_data = data.drop_duplicates(subset='Name', keep=\"first\")\n",
    "unique_data\n"
   ]
  },
  {
   "cell_type": "markdown",
   "metadata": {
    "pycharm": {
     "name": "#%% md\n"
    }
   },
   "source": [
    "Il file *data_aggregation.csv* contiene un'aggregazione dei dati delle matrici, con le proprietà fisse che restano invariate, mentre time error e memory, che variano a seconda di OS e linguaggio, vengono aggregate attraverso una media\n",
    "\n",
    "Ne scaturisce una tabella di 7 righe: una per ciascuna matrice, senza righe duplicate\n",
    "\n",
    "Sarà utile in seguito per alcune analisi effettuate, soprattuto il clustering"
   ]
  },
  {
   "cell_type": "code",
   "execution_count": null,
   "metadata": {
    "pycharm": {
     "name": "#%%\n"
    }
   },
   "outputs": [
    {
     "data": {
      "text/html": [
       "<div>\n",
       "<style scoped>\n",
       "    .dataframe tbody tr th:only-of-type {\n",
       "        vertical-align: middle;\n",
       "    }\n",
       "\n",
       "    .dataframe tbody tr th {\n",
       "        vertical-align: top;\n",
       "    }\n",
       "\n",
       "    .dataframe thead th {\n",
       "        text-align: right;\n",
       "    }\n",
       "</style>\n",
       "<table border=\"1\" class=\"dataframe\">\n",
       "  <thead>\n",
       "    <tr style=\"text-align: right;\">\n",
       "      <th></th>\n",
       "      <th>Name</th>\n",
       "      <th>Rows</th>\n",
       "      <th>avgError</th>\n",
       "      <th>avgMemory</th>\n",
       "      <th>avgTime</th>\n",
       "      <th>Nnz</th>\n",
       "      <th>Cond</th>\n",
       "    </tr>\n",
       "  </thead>\n",
       "  <tbody>\n",
       "    <tr>\n",
       "      <th>0</th>\n",
       "      <td>apache2</td>\n",
       "      <td>715176</td>\n",
       "      <td>1.120165e-08</td>\n",
       "      <td>1444.600346</td>\n",
       "      <td>44.545248</td>\n",
       "      <td>4817870</td>\n",
       "      <td>5.316861e+06</td>\n",
       "    </tr>\n",
       "    <tr>\n",
       "      <th>1</th>\n",
       "      <td>cfd1</td>\n",
       "      <td>70656</td>\n",
       "      <td>3.371027e-12</td>\n",
       "      <td>296.911774</td>\n",
       "      <td>3.781485</td>\n",
       "      <td>1825580</td>\n",
       "      <td>1.335081e+06</td>\n",
       "    </tr>\n",
       "    <tr>\n",
       "      <th>2</th>\n",
       "      <td>cfd2</td>\n",
       "      <td>123440</td>\n",
       "      <td>6.687547e-11</td>\n",
       "      <td>583.295888</td>\n",
       "      <td>9.181369</td>\n",
       "      <td>3085406</td>\n",
       "      <td>3.728473e+06</td>\n",
       "    </tr>\n",
       "    <tr>\n",
       "      <th>3</th>\n",
       "      <td>ex15</td>\n",
       "      <td>6867</td>\n",
       "      <td>2.672326e-05</td>\n",
       "      <td>1.571187</td>\n",
       "      <td>0.023189</td>\n",
       "      <td>98671</td>\n",
       "      <td>1.432642e+13</td>\n",
       "    </tr>\n",
       "    <tr>\n",
       "      <th>4</th>\n",
       "      <td>G3_circuit</td>\n",
       "      <td>1585478</td>\n",
       "      <td>1.728072e-09</td>\n",
       "      <td>1669.203346</td>\n",
       "      <td>25.034213</td>\n",
       "      <td>7660826</td>\n",
       "      <td>2.238425e+07</td>\n",
       "    </tr>\n",
       "    <tr>\n",
       "      <th>5</th>\n",
       "      <td>parabolic_fem</td>\n",
       "      <td>525825</td>\n",
       "      <td>4.423640e-10</td>\n",
       "      <td>286.514813</td>\n",
       "      <td>5.170140</td>\n",
       "      <td>3674625</td>\n",
       "      <td>2.110820e+05</td>\n",
       "    </tr>\n",
       "    <tr>\n",
       "      <th>6</th>\n",
       "      <td>shallow_water1</td>\n",
       "      <td>81920</td>\n",
       "      <td>3.475360e-14</td>\n",
       "      <td>12.659260</td>\n",
       "      <td>0.469546</td>\n",
       "      <td>327680</td>\n",
       "      <td>3.628000e+00</td>\n",
       "    </tr>\n",
       "  </tbody>\n",
       "</table>\n",
       "</div>"
      ],
      "text/plain": [
       "             Name     Rows      avgError    avgMemory    avgTime      Nnz  \\\n",
       "0         apache2   715176  1.120165e-08  1444.600346  44.545248  4817870   \n",
       "1            cfd1    70656  3.371027e-12   296.911774   3.781485  1825580   \n",
       "2            cfd2   123440  6.687547e-11   583.295888   9.181369  3085406   \n",
       "3            ex15     6867  2.672326e-05     1.571187   0.023189    98671   \n",
       "4      G3_circuit  1585478  1.728072e-09  1669.203346  25.034213  7660826   \n",
       "5   parabolic_fem   525825  4.423640e-10   286.514813   5.170140  3674625   \n",
       "6  shallow_water1    81920  3.475360e-14    12.659260   0.469546   327680   \n",
       "\n",
       "           Cond  \n",
       "0  5.316861e+06  \n",
       "1  1.335081e+06  \n",
       "2  3.728473e+06  \n",
       "3  1.432642e+13  \n",
       "4  2.238425e+07  \n",
       "5  2.110820e+05  \n",
       "6  3.628000e+00  "
      ]
     },
     "metadata": {},
     "output_type": "display_data"
    }
   ],
   "source": [
    "data = read_data(\"data.csv\")\n",
    "unique_data = data.drop_duplicates(subset='Name', keep=\"first\")\n",
    "matrix_names = unique_data.Name.tolist()\n",
    "agg_data = pd.DataFrame(columns=[\"Name\", \"Rows\", \"avgError\", \"avgMemory\", \"avgTime\", \"Nnz\", \"Cond\"])\n",
    "\n",
    "for i in range(len(matrix_names)):\n",
    "    name = unique_data.iloc[i].Name\n",
    "    sub_data = data[data.Name == name]\n",
    "    sub_data\n",
    "    agg_data.loc[i] = [unique_data.iloc[i].Name, unique_data.iloc[i].Rows, sub_data[\"Error\"].mean(), sub_data[\"Memory\"].mean(), \n",
    "                        sub_data[\"Time\"].mean(), unique_data.iloc[i].Nnz, unique_data.iloc[i].Cond]\n",
    "\n",
    "write_data(agg_data, \"data_aggregation.csv\")\n",
    "agg_data"
   ]
  },
  {
   "cell_type": "markdown",
   "metadata": {
    "pycharm": {
     "name": "#%% md\n"
    }
   },
   "source": [
    "## Come cresce l'Errore Relativo al crescere del Condizionamento?\n",
    "\n",
    "Qui vengono mostrati Plot e Barplot, in OSCompare.ipynb viene mostrato nel dettaglio il cofficiente di correlazione, nelle 4 combinazioni linguaggio-OS (Li terrei entrambi per la documentazione Latex)\n",
    "\n",
    "Come ci si poteva aspettare, la crescita dell'errore è direttamente proporzionale alla crescita del condizionamento della matrice: per questo ex15, pur essendo la matrice più piccola, è quella con errore più grande\n",
    "\n",
    "(Dal momento che il condizionamento è stato calcolato su MATLAB, l'errore considerato è quello di MATLAB, OS Windows ma era indifferente dal momento che le analisi hanno evidenziato che gli errori non cambiano tra diversi OS)"
   ]
  },
  {
   "cell_type": "code",
   "execution_count": null,
   "metadata": {
    "pycharm": {
     "name": "#%%\n"
    }
   },
   "outputs": [
    {
     "name": "stderr",
     "output_type": "stream",
     "text": [
      "C:\\Users\\simon\\AppData\\Local\\Temp\\ipykernel_3156\\2854924648.py:3: SettingWithCopyWarning: \n",
      "A value is trying to be set on a copy of a slice from a DataFrame\n",
      "\n",
      "See the caveats in the documentation: https://pandas.pydata.org/pandas-docs/stable/user_guide/indexing.html#returning-a-view-versus-a-copy\n",
      "  sub_data.sort_values(by=\"Cond\", inplace=True)\n"
     ]
    },
    {
     "data": {
      "image/png": "[encoded data removed]",
      "text/plain": [
       "<Figure size 1600x480 with 1 Axes>"
      ]
     },
     "metadata": {},
     "output_type": "display_data"
    }
   ],
   "source": [
    "sub_data = data[(data.OS == 0) & (data.Language == 0)]\n",
    "\n",
    "sub_data.sort_values(by=\"Cond\", inplace=True)\n",
    "\n",
    "cond_list = sub_data.Cond.tolist()\n",
    "error_list = sub_data.Error.tolist()\n",
    "\n",
    "matrix_names = sub_data.Name.tolist()\n",
    "\n",
    "plot(matrix_names, cond_list, error_list, \"Matrix (sorted by size)\", \"Conditioning vs Error\", \"Conditioning vs Error\", \"Conditioning\", \"Error\", LOG_SCALE=True)"
   ]
  },
  {
   "cell_type": "code",
   "execution_count": null,
   "metadata": {},
   "outputs": [
    {
     "data": {
      "image/png": "[encoded data removed]",
      "text/plain": [
       "<Figure size 1600x480 with 1 Axes>"
      ]
     },
     "metadata": {},
     "output_type": "display_data"
    }
   ],
   "source": [
    "bar_plot(matrix_names, cond_list, error_list, \"Matrix (sorted by size)\", \"Conditioning vs Error\", \"Conditioning vs Error\", \"Conditioning\", \"Error\", LOG_SCALE=True)"
   ]
  },
  {
   "cell_type": "markdown",
   "metadata": {
    "pycharm": {
     "name": "#%% md\n"
    }
   },
   "source": [
    "## Come aumenta il tempo di esecuzione in relazione alla Densità della Matrice?\n",
    "\n",
    "Dalle analisi precedenti è emerso come il tempo di esecuzione non dipenda solamente dalla dimensione della matrice, ma anche dalla forma che i dati al suo interno assumono: una matrice grande, i cui dati sono distribuiti attorno alla diagonale principale, richiede meno tempo di una più piccola, i cui dati sono però più dispersi\n",
    "\n",
    "Con questa analisi l'obiettivo è quello di capire se questa distribuzione dei dati è esprimibile attraverso un valore numerico, e verrà quindi analizzato se c'è una correlazione causale tra la densità della matrice (data dal rapporto dei valori non-zeri e la dimensione dell'intera matrice) e il tempo di esecuzione necessario per applicarvi la decomposizione di Cholesky\n",
    "\n",
    "Non sembra però esserci correlazione, il che è dovuto al fatto che le matrici più dense risultano essere proprio quelle di dimensioni minori, e pertanto richiedono tempo minore di esecuzione nonostante il rapporto di valori diversi da zero rispetto al totale è più alto in proporzione"
   ]
  },
  {
   "cell_type": "code",
   "execution_count": null,
   "metadata": {
    "pycharm": {
     "name": "#%%\n"
    }
   },
   "outputs": [
    {
     "data": {
      "image/png": "[encoded data removed]",
      "text/plain": [
       "<Figure size 1600x480 with 1 Axes>"
      ]
     },
     "metadata": {},
     "output_type": "display_data"
    }
   ],
   "source": [
    "agg_data[\"Density\"] = agg_data.Nnz / ((agg_data.Rows)**2)\n",
    "agg_data.head(len(agg_data))\n",
    "\n",
    "agg_data.sort_values(by=\"Density\", inplace=True)\n",
    "agg_data\n",
    "\n",
    "\n",
    "density_list = agg_data.Density.tolist()\n",
    "time_list = agg_data.avgTime.tolist()\n",
    "\n",
    "matrix_names = agg_data.Name.tolist()\n",
    "\n",
    "# plt.plot(matrix_names,density_list, label=\"Density\")\n",
    "# plt.plot(matrix_names,time_list, label=\"Time\")\n",
    "# plt.title('Density vs Time')\n",
    "# plt.xlabel('Matrix (sorted by size)')\n",
    "# plt.ylabel('Density vs Time')\n",
    "# plt.yscale(\"log\")\n",
    "# plt.legend()\n",
    "# plt.show()\n",
    "\n",
    "plot(matrix_names, density_list, time_list, \"Matrix (sorted by size)\", \"Density vs Time\", \"Density vs Time\", \"Density\", \"Time\", LOG_SCALE=True)"
   ]
  },
  {
   "cell_type": "markdown",
   "metadata": {
    "pycharm": {
     "name": "#%% md\n"
    }
   },
   "source": [
    "## Clustering delle Matrici\n",
    "\n",
    "Tentativo di usare Clustering sulle matrici, per analizzare la suddivisione automatica scaturita da un k-means, con una conseguente interpretazione dei cluster scaturiti\n",
    "\n",
    "L'algoritmo è stato provato sia con *k=3* che *k=4*, ma il secondo dà risultati più sensati\n",
    "\n",
    "L'attributo Cond è stato rimosso, perchè sfasava tutto\n",
    "\n",
    "**(Piccole)**: *ex15* ed *shallow_water* sono tra le più piccole, e inoltre hanno una forma simile, con i dati distribuiti attorno alla diagonale principale, quindi ci sta che siano insieme\n",
    "\n",
    "**(Medie)**: *cfd1* e *cfd2* si trovano insieme, il che era prevedibile essendo due matrci molto simili, sia per dimensioni che forma\n",
    "\n",
    "**(Grandi)**: *parabolic_fem* si trova isolata insieme ad *apache2*, il che va bene, dal momento che sono quelle con la forma più particolare, dimensioni simili \n",
    "\n",
    "**(Molto Grande)**: *G3* resta isolato, e ha senso perchè è la più grande, ha una forma particolare e poche proprietà in comune con le altre\n",
    "\n",
    "Il clustering risultante sembra essere fatto molto bene, in quanto non si sofferma a classificare le matrici esclusivamente in base alla loro dimensione, ma tiene conto anche delle altre proprietà delle matrici, come dimostarto dal fatto che sebbene *cfd1* sia leggermente più piccola di *shallow_water*, si trova comunque nel cluster assieme alla matrice \"sorella\" *cfd2*\n"
   ]
  },
  {
   "cell_type": "code",
   "execution_count": null,
   "metadata": {
    "pycharm": {
     "name": "#%%\n"
    }
   },
   "outputs": [
    {
     "data": {
      "text/html": [
       "<div>\n",
       "<style scoped>\n",
       "    .dataframe tbody tr th:only-of-type {\n",
       "        vertical-align: middle;\n",
       "    }\n",
       "\n",
       "    .dataframe tbody tr th {\n",
       "        vertical-align: top;\n",
       "    }\n",
       "\n",
       "    .dataframe thead th {\n",
       "        text-align: right;\n",
       "    }\n",
       "</style>\n",
       "<table border=\"1\" class=\"dataframe\">\n",
       "  <thead>\n",
       "    <tr style=\"text-align: right;\">\n",
       "      <th></th>\n",
       "      <th>Name</th>\n",
       "      <th>Rows</th>\n",
       "      <th>avgError</th>\n",
       "      <th>avgMemory</th>\n",
       "      <th>avgTime</th>\n",
       "      <th>Nnz</th>\n",
       "      <th>Cond</th>\n",
       "      <th>Density</th>\n",
       "      <th>cluster</th>\n",
       "    </tr>\n",
       "  </thead>\n",
       "  <tbody>\n",
       "    <tr>\n",
       "      <th>6</th>\n",
       "      <td>shallow_water1</td>\n",
       "      <td>81920</td>\n",
       "      <td>3.475360e-14</td>\n",
       "      <td>12.659260</td>\n",
       "      <td>0.469546</td>\n",
       "      <td>327680</td>\n",
       "      <td>3.628000e+00</td>\n",
       "      <td>0.000049</td>\n",
       "      <td>0</td>\n",
       "    </tr>\n",
       "    <tr>\n",
       "      <th>3</th>\n",
       "      <td>ex15</td>\n",
       "      <td>6867</td>\n",
       "      <td>2.672326e-05</td>\n",
       "      <td>1.571187</td>\n",
       "      <td>0.023189</td>\n",
       "      <td>98671</td>\n",
       "      <td>1.432642e+13</td>\n",
       "      <td>0.002092</td>\n",
       "      <td>0</td>\n",
       "    </tr>\n",
       "    <tr>\n",
       "      <th>0</th>\n",
       "      <td>apache2</td>\n",
       "      <td>715176</td>\n",
       "      <td>1.120165e-08</td>\n",
       "      <td>1444.600346</td>\n",
       "      <td>44.545248</td>\n",
       "      <td>4817870</td>\n",
       "      <td>5.316861e+06</td>\n",
       "      <td>0.000009</td>\n",
       "      <td>1</td>\n",
       "    </tr>\n",
       "    <tr>\n",
       "      <th>5</th>\n",
       "      <td>parabolic_fem</td>\n",
       "      <td>525825</td>\n",
       "      <td>4.423640e-10</td>\n",
       "      <td>286.514813</td>\n",
       "      <td>5.170140</td>\n",
       "      <td>3674625</td>\n",
       "      <td>2.110820e+05</td>\n",
       "      <td>0.000013</td>\n",
       "      <td>1</td>\n",
       "    </tr>\n",
       "    <tr>\n",
       "      <th>4</th>\n",
       "      <td>G3_circuit</td>\n",
       "      <td>1585478</td>\n",
       "      <td>1.728072e-09</td>\n",
       "      <td>1669.203346</td>\n",
       "      <td>25.034213</td>\n",
       "      <td>7660826</td>\n",
       "      <td>2.238425e+07</td>\n",
       "      <td>0.000003</td>\n",
       "      <td>2</td>\n",
       "    </tr>\n",
       "    <tr>\n",
       "      <th>2</th>\n",
       "      <td>cfd2</td>\n",
       "      <td>123440</td>\n",
       "      <td>6.687547e-11</td>\n",
       "      <td>583.295888</td>\n",
       "      <td>9.181369</td>\n",
       "      <td>3085406</td>\n",
       "      <td>3.728473e+06</td>\n",
       "      <td>0.000202</td>\n",
       "      <td>3</td>\n",
       "    </tr>\n",
       "    <tr>\n",
       "      <th>1</th>\n",
       "      <td>cfd1</td>\n",
       "      <td>70656</td>\n",
       "      <td>3.371027e-12</td>\n",
       "      <td>296.911774</td>\n",
       "      <td>3.781485</td>\n",
       "      <td>1825580</td>\n",
       "      <td>1.335081e+06</td>\n",
       "      <td>0.000366</td>\n",
       "      <td>3</td>\n",
       "    </tr>\n",
       "  </tbody>\n",
       "</table>\n",
       "</div>"
      ],
      "text/plain": [
       "             Name     Rows      avgError    avgMemory    avgTime      Nnz  \\\n",
       "6  shallow_water1    81920  3.475360e-14    12.659260   0.469546   327680   \n",
       "3            ex15     6867  2.672326e-05     1.571187   0.023189    98671   \n",
       "0         apache2   715176  1.120165e-08  1444.600346  44.545248  4817870   \n",
       "5   parabolic_fem   525825  4.423640e-10   286.514813   5.170140  3674625   \n",
       "4      G3_circuit  1585478  1.728072e-09  1669.203346  25.034213  7660826   \n",
       "2            cfd2   123440  6.687547e-11   583.295888   9.181369  3085406   \n",
       "1            cfd1    70656  3.371027e-12   296.911774   3.781485  1825580   \n",
       "\n",
       "           Cond   Density  cluster  \n",
       "6  3.628000e+00  0.000049        0  \n",
       "3  1.432642e+13  0.002092        0  \n",
       "0  5.316861e+06  0.000009        1  \n",
       "5  2.110820e+05  0.000013        1  \n",
       "4  2.238425e+07  0.000003        2  \n",
       "2  3.728473e+06  0.000202        3  \n",
       "1  1.335081e+06  0.000366        3  "
      ]
     },
     "metadata": {},
     "output_type": "display_data"
    }
   ],
   "source": [
    "# Convert DataFrame to matrix\n",
    "clustering_data = agg_data.drop(columns=['Name', 'Cond'])\n",
    "mat = clustering_data.values\n",
    "\n",
    "# Using sklearn\n",
    "km = sklearn.cluster.KMeans(n_clusters=4)\n",
    "km.fit(mat)\n",
    "\n",
    "# Get cluster assignment labels\n",
    "labels = km.labels_\n",
    "\n",
    "# Format results as a DataFrame\n",
    "agg_data[\"cluster\"] = labels\n",
    "agg_data.sort_values(by=\"cluster\", inplace=True)\n",
    "agg_data"
   ]
  },
  {
   "cell_type": "code",
   "execution_count": null,
   "metadata": {
    "pycharm": {
     "name": "#%%\n"
    }
   },
   "outputs": [],
   "source": []
  }
 ],
 "metadata": {
  "interpreter": {
   "hash": "497aaa5cf2df58865cc1130b0f092b7e63a2e282c2bb7e6927e789b1357cb278"
  },
  "kernelspec": {
   "display_name": "Python 3.10.2 64-bit",
   "language": "python",
   "name": "python3"
  },
  "language_info": {
   "codemirror_mode": {
    "name": "ipython",
    "version": 3
   },
   "file_extension": ".py",
   "mimetype": "text/x-python",
   "name": "python",
   "nbconvert_exporter": "python",
   "pygments_lexer": "ipython3",
   "version": "3.10.2"
  },
  "orig_nbformat": 4
 },
 "nbformat": 4,
 "nbformat_minor": 2
}
