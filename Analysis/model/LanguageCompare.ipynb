{
 "cells": [
  {
   "cell_type": "code",
   "execution_count": 21,
   "metadata": {
    "collapsed": false,
    "pycharm": {
     "name": "#%%\n"
    }
   },
   "outputs": [],
   "source": [
    "import pandas as pd\n",
    "import os\n",
    "import matplotlib.pyplot as plt\n",
    "from matplotlib.pyplot import figure\n",
    "from sklearn.linear_model import LinearRegression\n",
    "from Analysis.model.helper import *\n"
   ]
  },
  {
   "cell_type": "code",
   "execution_count": 22,
   "metadata": {
    "collapsed": false,
    "pycharm": {
     "name": "#%%\n"
    }
   },
   "outputs": [
    {
     "data": {
      "text/plain": "              Name     Rows  Columns         Error       Memory       Time  \\\n0          apache2   715176   715176  2.235941e-08     0.004471  66.232192   \n1          apache2   715176   715176  4.388900e-11  2877.018100  13.430700   \n2          apache2   715176   715176  2.235941e-08   131.386811  83.372801   \n3          apache2   715176   715176  4.388900e-11  2769.992000  15.145300   \n4             cfd1    70656    70656  6.628463e-12     0.003326   4.461982   \n5             cfd1    70656    70656  1.135900e-13   577.585200   2.557600   \n6             cfd1    70656    70656  6.628463e-12    49.466571   5.382657   \n7             cfd1    70656    70656  1.135900e-13   560.592000   2.723700   \n8             cfd2   123440   123440  1.334161e-10     0.003326  10.917099   \n9             cfd2   123440   123440  3.348600e-13  1187.708900   6.083400   \n10            cfd2   123440   123440  1.334161e-10     0.003326  13.483177   \n11            cfd2   123440   123440  3.348600e-13  1145.468000   6.241800   \n12            ex15     6867     6867  5.281170e-05     0.003326   0.015078   \n13            ex15     6867     6867  6.348200e-07     3.616800   0.030822   \n14            ex15     6867     6867  5.281170e-05     2.664623   0.022156   \n15            ex15     6867     6867  6.348200e-07     0.000000   0.024699   \n16      G3_circuit  1585478  1585478  3.452568e-09   210.620559  27.939265   \n17      G3_circuit  1585478  1585478  3.576600e-12  3262.529500  19.503700   \n18      G3_circuit  1585478  1585478  3.452568e-09     0.003326  33.810687   \n19      G3_circuit  1585478  1585478  3.576600e-12  3203.660000  18.883200   \n20   parabolic_fem   525825   525825  8.836779e-10     0.003326   6.439602   \n21   parabolic_fem   525825   525825  1.050000e-12   607.600600   3.033300   \n22   parabolic_fem   525825   525825  8.836779e-10     0.003326   7.920758   \n23   parabolic_fem   525825   525825  1.050000e-12   538.452000   3.286900   \n24  shallow_water1    81920    81920  6.923992e-14     9.067514   0.615064   \n25  shallow_water1    81920    81920  2.672800e-16    41.566200   0.254370   \n26  shallow_water1    81920    81920  6.923992e-14     0.003326   0.745701   \n27  shallow_water1    81920    81920  2.672800e-16     0.000000   0.263050   \n\n    Language  OS      Nnz          Cond  \n0          1   0  4817870  5.316861e+06  \n1          0   0  4817870  5.316861e+06  \n2          1   1  4817870  5.316861e+06  \n3          0   1  4817870  5.316861e+06  \n4          1   0  1825580  1.335081e+06  \n5          0   0  1825580  1.335081e+06  \n6          1   1  1825580  1.335081e+06  \n7          0   1  1825580  1.335081e+06  \n8          1   0  3085406  3.728473e+06  \n9          0   0  3085406  3.728473e+06  \n10         1   1  3085406  3.728473e+06  \n11         0   1  3085406  3.728473e+06  \n12         1   0    98671  1.432642e+13  \n13         0   0    98671  1.432642e+13  \n14         1   1    98671  1.432642e+13  \n15         0   1    98671  1.432642e+13  \n16         1   0  7660826  2.238425e+07  \n17         0   0  7660826  2.238425e+07  \n18         1   1  7660826  2.238425e+07  \n19         0   1  7660826  2.238425e+07  \n20         1   0  3674625  2.110820e+05  \n21         0   0  3674625  2.110820e+05  \n22         1   1  3674625  2.110820e+05  \n23         0   1  3674625  2.110820e+05  \n24         1   0   327680  3.628000e+00  \n25         0   0   327680  3.628000e+00  \n26         1   1   327680  3.628000e+00  \n27         0   1   327680  3.628000e+00  ",
      "text/html": "<div>\n<style scoped>\n    .dataframe tbody tr th:only-of-type {\n        vertical-align: middle;\n    }\n\n    .dataframe tbody tr th {\n        vertical-align: top;\n    }\n\n    .dataframe thead th {\n        text-align: right;\n    }\n</style>\n<table border=\"1\" class=\"dataframe\">\n  <thead>\n    <tr style=\"text-align: right;\">\n      <th></th>\n      <th>Name</th>\n      <th>Rows</th>\n      <th>Columns</th>\n      <th>Error</th>\n      <th>Memory</th>\n      <th>Time</th>\n      <th>Language</th>\n      <th>OS</th>\n      <th>Nnz</th>\n      <th>Cond</th>\n    </tr>\n  </thead>\n  <tbody>\n    <tr>\n      <th>0</th>\n      <td>apache2</td>\n      <td>715176</td>\n      <td>715176</td>\n      <td>2.235941e-08</td>\n      <td>0.004471</td>\n      <td>66.232192</td>\n      <td>1</td>\n      <td>0</td>\n      <td>4817870</td>\n      <td>5.316861e+06</td>\n    </tr>\n    <tr>\n      <th>1</th>\n      <td>apache2</td>\n      <td>715176</td>\n      <td>715176</td>\n      <td>4.388900e-11</td>\n      <td>2877.018100</td>\n      <td>13.430700</td>\n      <td>0</td>\n      <td>0</td>\n      <td>4817870</td>\n      <td>5.316861e+06</td>\n    </tr>\n    <tr>\n      <th>2</th>\n      <td>apache2</td>\n      <td>715176</td>\n      <td>715176</td>\n      <td>2.235941e-08</td>\n      <td>131.386811</td>\n      <td>83.372801</td>\n      <td>1</td>\n      <td>1</td>\n      <td>4817870</td>\n      <td>5.316861e+06</td>\n    </tr>\n    <tr>\n      <th>3</th>\n      <td>apache2</td>\n      <td>715176</td>\n      <td>715176</td>\n      <td>4.388900e-11</td>\n      <td>2769.992000</td>\n      <td>15.145300</td>\n      <td>0</td>\n      <td>1</td>\n      <td>4817870</td>\n      <td>5.316861e+06</td>\n    </tr>\n    <tr>\n      <th>4</th>\n      <td>cfd1</td>\n      <td>70656</td>\n      <td>70656</td>\n      <td>6.628463e-12</td>\n      <td>0.003326</td>\n      <td>4.461982</td>\n      <td>1</td>\n      <td>0</td>\n      <td>1825580</td>\n      <td>1.335081e+06</td>\n    </tr>\n    <tr>\n      <th>5</th>\n      <td>cfd1</td>\n      <td>70656</td>\n      <td>70656</td>\n      <td>1.135900e-13</td>\n      <td>577.585200</td>\n      <td>2.557600</td>\n      <td>0</td>\n      <td>0</td>\n      <td>1825580</td>\n      <td>1.335081e+06</td>\n    </tr>\n    <tr>\n      <th>6</th>\n      <td>cfd1</td>\n      <td>70656</td>\n      <td>70656</td>\n      <td>6.628463e-12</td>\n      <td>49.466571</td>\n      <td>5.382657</td>\n      <td>1</td>\n      <td>1</td>\n      <td>1825580</td>\n      <td>1.335081e+06</td>\n    </tr>\n    <tr>\n      <th>7</th>\n      <td>cfd1</td>\n      <td>70656</td>\n      <td>70656</td>\n      <td>1.135900e-13</td>\n      <td>560.592000</td>\n      <td>2.723700</td>\n      <td>0</td>\n      <td>1</td>\n      <td>1825580</td>\n      <td>1.335081e+06</td>\n    </tr>\n    <tr>\n      <th>8</th>\n      <td>cfd2</td>\n      <td>123440</td>\n      <td>123440</td>\n      <td>1.334161e-10</td>\n      <td>0.003326</td>\n      <td>10.917099</td>\n      <td>1</td>\n      <td>0</td>\n      <td>3085406</td>\n      <td>3.728473e+06</td>\n    </tr>\n    <tr>\n      <th>9</th>\n      <td>cfd2</td>\n      <td>123440</td>\n      <td>123440</td>\n      <td>3.348600e-13</td>\n      <td>1187.708900</td>\n      <td>6.083400</td>\n      <td>0</td>\n      <td>0</td>\n      <td>3085406</td>\n      <td>3.728473e+06</td>\n    </tr>\n    <tr>\n      <th>10</th>\n      <td>cfd2</td>\n      <td>123440</td>\n      <td>123440</td>\n      <td>1.334161e-10</td>\n      <td>0.003326</td>\n      <td>13.483177</td>\n      <td>1</td>\n      <td>1</td>\n      <td>3085406</td>\n      <td>3.728473e+06</td>\n    </tr>\n    <tr>\n      <th>11</th>\n      <td>cfd2</td>\n      <td>123440</td>\n      <td>123440</td>\n      <td>3.348600e-13</td>\n      <td>1145.468000</td>\n      <td>6.241800</td>\n      <td>0</td>\n      <td>1</td>\n      <td>3085406</td>\n      <td>3.728473e+06</td>\n    </tr>\n    <tr>\n      <th>12</th>\n      <td>ex15</td>\n      <td>6867</td>\n      <td>6867</td>\n      <td>5.281170e-05</td>\n      <td>0.003326</td>\n      <td>0.015078</td>\n      <td>1</td>\n      <td>0</td>\n      <td>98671</td>\n      <td>1.432642e+13</td>\n    </tr>\n    <tr>\n      <th>13</th>\n      <td>ex15</td>\n      <td>6867</td>\n      <td>6867</td>\n      <td>6.348200e-07</td>\n      <td>3.616800</td>\n      <td>0.030822</td>\n      <td>0</td>\n      <td>0</td>\n      <td>98671</td>\n      <td>1.432642e+13</td>\n    </tr>\n    <tr>\n      <th>14</th>\n      <td>ex15</td>\n      <td>6867</td>\n      <td>6867</td>\n      <td>5.281170e-05</td>\n      <td>2.664623</td>\n      <td>0.022156</td>\n      <td>1</td>\n      <td>1</td>\n      <td>98671</td>\n      <td>1.432642e+13</td>\n    </tr>\n    <tr>\n      <th>15</th>\n      <td>ex15</td>\n      <td>6867</td>\n      <td>6867</td>\n      <td>6.348200e-07</td>\n      <td>0.000000</td>\n      <td>0.024699</td>\n      <td>0</td>\n      <td>1</td>\n      <td>98671</td>\n      <td>1.432642e+13</td>\n    </tr>\n    <tr>\n      <th>16</th>\n      <td>G3_circuit</td>\n      <td>1585478</td>\n      <td>1585478</td>\n      <td>3.452568e-09</td>\n      <td>210.620559</td>\n      <td>27.939265</td>\n      <td>1</td>\n      <td>0</td>\n      <td>7660826</td>\n      <td>2.238425e+07</td>\n    </tr>\n    <tr>\n      <th>17</th>\n      <td>G3_circuit</td>\n      <td>1585478</td>\n      <td>1585478</td>\n      <td>3.576600e-12</td>\n      <td>3262.529500</td>\n      <td>19.503700</td>\n      <td>0</td>\n      <td>0</td>\n      <td>7660826</td>\n      <td>2.238425e+07</td>\n    </tr>\n    <tr>\n      <th>18</th>\n      <td>G3_circuit</td>\n      <td>1585478</td>\n      <td>1585478</td>\n      <td>3.452568e-09</td>\n      <td>0.003326</td>\n      <td>33.810687</td>\n      <td>1</td>\n      <td>1</td>\n      <td>7660826</td>\n      <td>2.238425e+07</td>\n    </tr>\n    <tr>\n      <th>19</th>\n      <td>G3_circuit</td>\n      <td>1585478</td>\n      <td>1585478</td>\n      <td>3.576600e-12</td>\n      <td>3203.660000</td>\n      <td>18.883200</td>\n      <td>0</td>\n      <td>1</td>\n      <td>7660826</td>\n      <td>2.238425e+07</td>\n    </tr>\n    <tr>\n      <th>20</th>\n      <td>parabolic_fem</td>\n      <td>525825</td>\n      <td>525825</td>\n      <td>8.836779e-10</td>\n      <td>0.003326</td>\n      <td>6.439602</td>\n      <td>1</td>\n      <td>0</td>\n      <td>3674625</td>\n      <td>2.110820e+05</td>\n    </tr>\n    <tr>\n      <th>21</th>\n      <td>parabolic_fem</td>\n      <td>525825</td>\n      <td>525825</td>\n      <td>1.050000e-12</td>\n      <td>607.600600</td>\n      <td>3.033300</td>\n      <td>0</td>\n      <td>0</td>\n      <td>3674625</td>\n      <td>2.110820e+05</td>\n    </tr>\n    <tr>\n      <th>22</th>\n      <td>parabolic_fem</td>\n      <td>525825</td>\n      <td>525825</td>\n      <td>8.836779e-10</td>\n      <td>0.003326</td>\n      <td>7.920758</td>\n      <td>1</td>\n      <td>1</td>\n      <td>3674625</td>\n      <td>2.110820e+05</td>\n    </tr>\n    <tr>\n      <th>23</th>\n      <td>parabolic_fem</td>\n      <td>525825</td>\n      <td>525825</td>\n      <td>1.050000e-12</td>\n      <td>538.452000</td>\n      <td>3.286900</td>\n      <td>0</td>\n      <td>1</td>\n      <td>3674625</td>\n      <td>2.110820e+05</td>\n    </tr>\n    <tr>\n      <th>24</th>\n      <td>shallow_water1</td>\n      <td>81920</td>\n      <td>81920</td>\n      <td>6.923992e-14</td>\n      <td>9.067514</td>\n      <td>0.615064</td>\n      <td>1</td>\n      <td>0</td>\n      <td>327680</td>\n      <td>3.628000e+00</td>\n    </tr>\n    <tr>\n      <th>25</th>\n      <td>shallow_water1</td>\n      <td>81920</td>\n      <td>81920</td>\n      <td>2.672800e-16</td>\n      <td>41.566200</td>\n      <td>0.254370</td>\n      <td>0</td>\n      <td>0</td>\n      <td>327680</td>\n      <td>3.628000e+00</td>\n    </tr>\n    <tr>\n      <th>26</th>\n      <td>shallow_water1</td>\n      <td>81920</td>\n      <td>81920</td>\n      <td>6.923992e-14</td>\n      <td>0.003326</td>\n      <td>0.745701</td>\n      <td>1</td>\n      <td>1</td>\n      <td>327680</td>\n      <td>3.628000e+00</td>\n    </tr>\n    <tr>\n      <th>27</th>\n      <td>shallow_water1</td>\n      <td>81920</td>\n      <td>81920</td>\n      <td>2.672800e-16</td>\n      <td>0.000000</td>\n      <td>0.263050</td>\n      <td>0</td>\n      <td>1</td>\n      <td>327680</td>\n      <td>3.628000e+00</td>\n    </tr>\n  </tbody>\n</table>\n</div>"
     },
     "execution_count": 22,
     "metadata": {},
     "output_type": "execute_result"
    }
   ],
   "source": [
    "from Analysis.model.helper import read_data\n",
    "from Analysis.resources.costants import RESOURCES_DIRECTORY\n",
    "\n",
    "data = read_data(os.path.join(RESOURCES_DIRECTORY,\"data.csv\"))\n",
    "data"
   ]
  },
  {
   "cell_type": "markdown",
   "metadata": {
    "collapsed": false,
    "pycharm": {
     "name": "#%% md\n"
    }
   },
   "source": [
    "# Windows"
   ]
  },
  {
   "cell_type": "markdown",
   "metadata": {
    "collapsed": false,
    "pycharm": {
     "name": "#%% md\n"
    }
   },
   "source": [
    "Innanzitutto prendo in considerazione solo le righe che hanno come OS Windows"
   ]
  },
  {
   "cell_type": "code",
   "execution_count": 23,
   "metadata": {
    "collapsed": false,
    "pycharm": {
     "name": "#%%\n"
    }
   },
   "outputs": [
    {
     "data": {
      "text/plain": "              Name     Rows  Columns         Error       Memory       Time  \\\n0          apache2   715176   715176  2.235941e-08     0.004471  66.232192   \n1          apache2   715176   715176  4.388900e-11  2877.018100  13.430700   \n4             cfd1    70656    70656  6.628463e-12     0.003326   4.461982   \n5             cfd1    70656    70656  1.135900e-13   577.585200   2.557600   \n8             cfd2   123440   123440  1.334161e-10     0.003326  10.917099   \n9             cfd2   123440   123440  3.348600e-13  1187.708900   6.083400   \n12            ex15     6867     6867  5.281170e-05     0.003326   0.015078   \n13            ex15     6867     6867  6.348200e-07     3.616800   0.030822   \n16      G3_circuit  1585478  1585478  3.452568e-09   210.620559  27.939265   \n17      G3_circuit  1585478  1585478  3.576600e-12  3262.529500  19.503700   \n20   parabolic_fem   525825   525825  8.836779e-10     0.003326   6.439602   \n21   parabolic_fem   525825   525825  1.050000e-12   607.600600   3.033300   \n24  shallow_water1    81920    81920  6.923992e-14     9.067514   0.615064   \n25  shallow_water1    81920    81920  2.672800e-16    41.566200   0.254370   \n\n    Language  OS      Nnz          Cond  \n0          1   0  4817870  5.316861e+06  \n1          0   0  4817870  5.316861e+06  \n4          1   0  1825580  1.335081e+06  \n5          0   0  1825580  1.335081e+06  \n8          1   0  3085406  3.728473e+06  \n9          0   0  3085406  3.728473e+06  \n12         1   0    98671  1.432642e+13  \n13         0   0    98671  1.432642e+13  \n16         1   0  7660826  2.238425e+07  \n17         0   0  7660826  2.238425e+07  \n20         1   0  3674625  2.110820e+05  \n21         0   0  3674625  2.110820e+05  \n24         1   0   327680  3.628000e+00  \n25         0   0   327680  3.628000e+00  ",
      "text/html": "<div>\n<style scoped>\n    .dataframe tbody tr th:only-of-type {\n        vertical-align: middle;\n    }\n\n    .dataframe tbody tr th {\n        vertical-align: top;\n    }\n\n    .dataframe thead th {\n        text-align: right;\n    }\n</style>\n<table border=\"1\" class=\"dataframe\">\n  <thead>\n    <tr style=\"text-align: right;\">\n      <th></th>\n      <th>Name</th>\n      <th>Rows</th>\n      <th>Columns</th>\n      <th>Error</th>\n      <th>Memory</th>\n      <th>Time</th>\n      <th>Language</th>\n      <th>OS</th>\n      <th>Nnz</th>\n      <th>Cond</th>\n    </tr>\n  </thead>\n  <tbody>\n    <tr>\n      <th>0</th>\n      <td>apache2</td>\n      <td>715176</td>\n      <td>715176</td>\n      <td>2.235941e-08</td>\n      <td>0.004471</td>\n      <td>66.232192</td>\n      <td>1</td>\n      <td>0</td>\n      <td>4817870</td>\n      <td>5.316861e+06</td>\n    </tr>\n    <tr>\n      <th>1</th>\n      <td>apache2</td>\n      <td>715176</td>\n      <td>715176</td>\n      <td>4.388900e-11</td>\n      <td>2877.018100</td>\n      <td>13.430700</td>\n      <td>0</td>\n      <td>0</td>\n      <td>4817870</td>\n      <td>5.316861e+06</td>\n    </tr>\n    <tr>\n      <th>4</th>\n      <td>cfd1</td>\n      <td>70656</td>\n      <td>70656</td>\n      <td>6.628463e-12</td>\n      <td>0.003326</td>\n      <td>4.461982</td>\n      <td>1</td>\n      <td>0</td>\n      <td>1825580</td>\n      <td>1.335081e+06</td>\n    </tr>\n    <tr>\n      <th>5</th>\n      <td>cfd1</td>\n      <td>70656</td>\n      <td>70656</td>\n      <td>1.135900e-13</td>\n      <td>577.585200</td>\n      <td>2.557600</td>\n      <td>0</td>\n      <td>0</td>\n      <td>1825580</td>\n      <td>1.335081e+06</td>\n    </tr>\n    <tr>\n      <th>8</th>\n      <td>cfd2</td>\n      <td>123440</td>\n      <td>123440</td>\n      <td>1.334161e-10</td>\n      <td>0.003326</td>\n      <td>10.917099</td>\n      <td>1</td>\n      <td>0</td>\n      <td>3085406</td>\n      <td>3.728473e+06</td>\n    </tr>\n    <tr>\n      <th>9</th>\n      <td>cfd2</td>\n      <td>123440</td>\n      <td>123440</td>\n      <td>3.348600e-13</td>\n      <td>1187.708900</td>\n      <td>6.083400</td>\n      <td>0</td>\n      <td>0</td>\n      <td>3085406</td>\n      <td>3.728473e+06</td>\n    </tr>\n    <tr>\n      <th>12</th>\n      <td>ex15</td>\n      <td>6867</td>\n      <td>6867</td>\n      <td>5.281170e-05</td>\n      <td>0.003326</td>\n      <td>0.015078</td>\n      <td>1</td>\n      <td>0</td>\n      <td>98671</td>\n      <td>1.432642e+13</td>\n    </tr>\n    <tr>\n      <th>13</th>\n      <td>ex15</td>\n      <td>6867</td>\n      <td>6867</td>\n      <td>6.348200e-07</td>\n      <td>3.616800</td>\n      <td>0.030822</td>\n      <td>0</td>\n      <td>0</td>\n      <td>98671</td>\n      <td>1.432642e+13</td>\n    </tr>\n    <tr>\n      <th>16</th>\n      <td>G3_circuit</td>\n      <td>1585478</td>\n      <td>1585478</td>\n      <td>3.452568e-09</td>\n      <td>210.620559</td>\n      <td>27.939265</td>\n      <td>1</td>\n      <td>0</td>\n      <td>7660826</td>\n      <td>2.238425e+07</td>\n    </tr>\n    <tr>\n      <th>17</th>\n      <td>G3_circuit</td>\n      <td>1585478</td>\n      <td>1585478</td>\n      <td>3.576600e-12</td>\n      <td>3262.529500</td>\n      <td>19.503700</td>\n      <td>0</td>\n      <td>0</td>\n      <td>7660826</td>\n      <td>2.238425e+07</td>\n    </tr>\n    <tr>\n      <th>20</th>\n      <td>parabolic_fem</td>\n      <td>525825</td>\n      <td>525825</td>\n      <td>8.836779e-10</td>\n      <td>0.003326</td>\n      <td>6.439602</td>\n      <td>1</td>\n      <td>0</td>\n      <td>3674625</td>\n      <td>2.110820e+05</td>\n    </tr>\n    <tr>\n      <th>21</th>\n      <td>parabolic_fem</td>\n      <td>525825</td>\n      <td>525825</td>\n      <td>1.050000e-12</td>\n      <td>607.600600</td>\n      <td>3.033300</td>\n      <td>0</td>\n      <td>0</td>\n      <td>3674625</td>\n      <td>2.110820e+05</td>\n    </tr>\n    <tr>\n      <th>24</th>\n      <td>shallow_water1</td>\n      <td>81920</td>\n      <td>81920</td>\n      <td>6.923992e-14</td>\n      <td>9.067514</td>\n      <td>0.615064</td>\n      <td>1</td>\n      <td>0</td>\n      <td>327680</td>\n      <td>3.628000e+00</td>\n    </tr>\n    <tr>\n      <th>25</th>\n      <td>shallow_water1</td>\n      <td>81920</td>\n      <td>81920</td>\n      <td>2.672800e-16</td>\n      <td>41.566200</td>\n      <td>0.254370</td>\n      <td>0</td>\n      <td>0</td>\n      <td>327680</td>\n      <td>3.628000e+00</td>\n    </tr>\n  </tbody>\n</table>\n</div>"
     },
     "execution_count": 23,
     "metadata": {},
     "output_type": "execute_result"
    }
   ],
   "source": [
    "windowsDataset = data.loc[data['OS'] == 0]\n",
    "windowsDataset"
   ]
  },
  {
   "cell_type": "code",
   "execution_count": 24,
   "metadata": {
    "collapsed": false,
    "pycharm": {
     "name": "#%%\n"
    }
   },
   "outputs": [],
   "source": [
    "\n",
    "windows_py, windows_mat = get_data_sorted(\"Rows\", windowsDataset)"
   ]
  },
  {
   "cell_type": "code",
   "execution_count": 25,
   "metadata": {
    "collapsed": false,
    "pycharm": {
     "name": "#%%\n"
    }
   },
   "outputs": [
    {
     "data": {
      "text/plain": "              Name     Rows  Columns         Error      Memory       Time  \\\n12            ex15     6867     6867  5.281170e-05    0.003326   0.015078   \n4             cfd1    70656    70656  6.628463e-12    0.003326   4.461982   \n24  shallow_water1    81920    81920  6.923992e-14    9.067514   0.615064   \n8             cfd2   123440   123440  1.334161e-10    0.003326  10.917099   \n20   parabolic_fem   525825   525825  8.836779e-10    0.003326   6.439602   \n0          apache2   715176   715176  2.235941e-08    0.004471  66.232192   \n16      G3_circuit  1585478  1585478  3.452568e-09  210.620559  27.939265   \n\n    Language  OS      Nnz          Cond  \n12         1   0    98671  1.432642e+13  \n4          1   0  1825580  1.335081e+06  \n24         1   0   327680  3.628000e+00  \n8          1   0  3085406  3.728473e+06  \n20         1   0  3674625  2.110820e+05  \n0          1   0  4817870  5.316861e+06  \n16         1   0  7660826  2.238425e+07  ",
      "text/html": "<div>\n<style scoped>\n    .dataframe tbody tr th:only-of-type {\n        vertical-align: middle;\n    }\n\n    .dataframe tbody tr th {\n        vertical-align: top;\n    }\n\n    .dataframe thead th {\n        text-align: right;\n    }\n</style>\n<table border=\"1\" class=\"dataframe\">\n  <thead>\n    <tr style=\"text-align: right;\">\n      <th></th>\n      <th>Name</th>\n      <th>Rows</th>\n      <th>Columns</th>\n      <th>Error</th>\n      <th>Memory</th>\n      <th>Time</th>\n      <th>Language</th>\n      <th>OS</th>\n      <th>Nnz</th>\n      <th>Cond</th>\n    </tr>\n  </thead>\n  <tbody>\n    <tr>\n      <th>12</th>\n      <td>ex15</td>\n      <td>6867</td>\n      <td>6867</td>\n      <td>5.281170e-05</td>\n      <td>0.003326</td>\n      <td>0.015078</td>\n      <td>1</td>\n      <td>0</td>\n      <td>98671</td>\n      <td>1.432642e+13</td>\n    </tr>\n    <tr>\n      <th>4</th>\n      <td>cfd1</td>\n      <td>70656</td>\n      <td>70656</td>\n      <td>6.628463e-12</td>\n      <td>0.003326</td>\n      <td>4.461982</td>\n      <td>1</td>\n      <td>0</td>\n      <td>1825580</td>\n      <td>1.335081e+06</td>\n    </tr>\n    <tr>\n      <th>24</th>\n      <td>shallow_water1</td>\n      <td>81920</td>\n      <td>81920</td>\n      <td>6.923992e-14</td>\n      <td>9.067514</td>\n      <td>0.615064</td>\n      <td>1</td>\n      <td>0</td>\n      <td>327680</td>\n      <td>3.628000e+00</td>\n    </tr>\n    <tr>\n      <th>8</th>\n      <td>cfd2</td>\n      <td>123440</td>\n      <td>123440</td>\n      <td>1.334161e-10</td>\n      <td>0.003326</td>\n      <td>10.917099</td>\n      <td>1</td>\n      <td>0</td>\n      <td>3085406</td>\n      <td>3.728473e+06</td>\n    </tr>\n    <tr>\n      <th>20</th>\n      <td>parabolic_fem</td>\n      <td>525825</td>\n      <td>525825</td>\n      <td>8.836779e-10</td>\n      <td>0.003326</td>\n      <td>6.439602</td>\n      <td>1</td>\n      <td>0</td>\n      <td>3674625</td>\n      <td>2.110820e+05</td>\n    </tr>\n    <tr>\n      <th>0</th>\n      <td>apache2</td>\n      <td>715176</td>\n      <td>715176</td>\n      <td>2.235941e-08</td>\n      <td>0.004471</td>\n      <td>66.232192</td>\n      <td>1</td>\n      <td>0</td>\n      <td>4817870</td>\n      <td>5.316861e+06</td>\n    </tr>\n    <tr>\n      <th>16</th>\n      <td>G3_circuit</td>\n      <td>1585478</td>\n      <td>1585478</td>\n      <td>3.452568e-09</td>\n      <td>210.620559</td>\n      <td>27.939265</td>\n      <td>1</td>\n      <td>0</td>\n      <td>7660826</td>\n      <td>2.238425e+07</td>\n    </tr>\n  </tbody>\n</table>\n</div>"
     },
     "execution_count": 25,
     "metadata": {},
     "output_type": "execute_result"
    }
   ],
   "source": [
    "windows_py"
   ]
  },
  {
   "cell_type": "markdown",
   "metadata": {
    "collapsed": false,
    "pycharm": {
     "name": "#%% md\n"
    }
   },
   "source": [
    "### Error"
   ]
  },
  {
   "cell_type": "code",
   "execution_count": 26,
   "metadata": {
    "collapsed": false,
    "pycharm": {
     "name": "#%%\n"
    }
   },
   "outputs": [
    {
     "ename": "TypeError",
     "evalue": "plot() missing 2 required positional arguments: 'legend1' and 'legend2'",
     "output_type": "error",
     "traceback": [
      "\u001B[0;31m---------------------------------------------------------------------------\u001B[0m",
      "\u001B[0;31mTypeError\u001B[0m                                 Traceback (most recent call last)",
      "Input \u001B[0;32mIn [26]\u001B[0m, in \u001B[0;36m<cell line: 1>\u001B[0;34m()\u001B[0m\n\u001B[0;32m----> 1\u001B[0m \u001B[43mplot\u001B[49m\u001B[43m(\u001B[49m\u001B[43mwindows_py\u001B[49m\u001B[43m[\u001B[49m\u001B[38;5;124;43m'\u001B[39;49m\u001B[38;5;124;43mName\u001B[39;49m\u001B[38;5;124;43m'\u001B[39;49m\u001B[43m]\u001B[49m\u001B[43m,\u001B[49m\u001B[43m \u001B[49m\u001B[43mwindows_py\u001B[49m\u001B[43m[\u001B[49m\u001B[38;5;124;43m'\u001B[39;49m\u001B[38;5;124;43mError\u001B[39;49m\u001B[38;5;124;43m'\u001B[39;49m\u001B[43m]\u001B[49m\u001B[43m,\u001B[49m\u001B[43m \u001B[49m\u001B[43mwindows_mat\u001B[49m\u001B[43m[\u001B[49m\u001B[38;5;124;43m'\u001B[39;49m\u001B[38;5;124;43mError\u001B[39;49m\u001B[38;5;124;43m'\u001B[39;49m\u001B[43m]\u001B[49m\u001B[43m,\u001B[49m\u001B[43m \u001B[49m\u001B[38;5;124;43m\"\u001B[39;49m\u001B[38;5;124;43mName\u001B[39;49m\u001B[38;5;124;43m\"\u001B[39;49m\u001B[43m,\u001B[49m\u001B[43m \u001B[49m\u001B[38;5;124;43m\"\u001B[39;49m\u001B[38;5;124;43mError\u001B[39;49m\u001B[38;5;124;43m\"\u001B[39;49m\u001B[43m,\u001B[49m\u001B[43m \u001B[49m\u001B[38;5;124;43m\"\u001B[39;49m\u001B[38;5;124;43mError Analysis on Windows\u001B[39;49m\u001B[38;5;124;43m\"\u001B[39;49m\u001B[43m,\u001B[49m\u001B[43m \u001B[49m\u001B[43mLOG_SCALE\u001B[49m\u001B[38;5;241;43m=\u001B[39;49m\u001B[38;5;28;43;01mTrue\u001B[39;49;00m\u001B[43m)\u001B[49m\n",
      "\u001B[0;31mTypeError\u001B[0m: plot() missing 2 required positional arguments: 'legend1' and 'legend2'"
     ]
    }
   ],
   "source": [
    "plot(windows_py['Name'], windows_py['Error'], windows_mat['Error'], \"Name\", \"Error\", \"Error Analysis on Windows\", LOG_SCALE=True)\n"
   ]
  },
  {
   "cell_type": "code",
   "execution_count": null,
   "metadata": {
    "collapsed": false,
    "pycharm": {
     "name": "#%%\n"
    }
   },
   "outputs": [],
   "source": [
    "bar_plot(windows_py['Name'], windows_py['Error'], windows_mat['Error'], \"Name\", \"Error\", \"Error Analysis on Windows\", LOG_SCALE=True)"
   ]
  },
  {
   "cell_type": "markdown",
   "metadata": {
    "collapsed": false,
    "pycharm": {
     "name": "#%% md\n"
    }
   },
   "source": [
    "### Memory"
   ]
  },
  {
   "cell_type": "code",
   "execution_count": null,
   "metadata": {
    "collapsed": false,
    "pycharm": {
     "name": "#%%\n"
    }
   },
   "outputs": [],
   "source": [
    "bar_plot(windows_py['Name'], windows_py['Memory'], windows_mat['Memory'], \"Name\", \"Memory\", \"Memory Analysis on Windows\", Y_LABEL=\"MB\")"
   ]
  },
  {
   "cell_type": "code",
   "execution_count": null,
   "metadata": {
    "collapsed": false,
    "pycharm": {
     "name": "#%%\n"
    }
   },
   "outputs": [],
   "source": [
    "plot(windows_py['Name'], windows_py['Memory'], windows_mat['Memory'], \"Name\", \"Memory\", \"Memory Analysis on Windows\", Y_LABEL=\"MB\")"
   ]
  },
  {
   "cell_type": "markdown",
   "metadata": {
    "collapsed": false,
    "pycharm": {
     "name": "#%% md\n"
    }
   },
   "source": [
    "### Time"
   ]
  },
  {
   "cell_type": "code",
   "execution_count": null,
   "metadata": {
    "collapsed": false,
    "pycharm": {
     "name": "#%%\n"
    }
   },
   "outputs": [],
   "source": [
    "plot(windows_py['Name'], windows_py['Time'], windows_mat['Time'], \"Name\", \"Time\",\"Time Analysis on Windows\", Y_LABEL=\"s\")"
   ]
  },
  {
   "cell_type": "code",
   "execution_count": null,
   "metadata": {
    "collapsed": false,
    "pycharm": {
     "name": "#%%\n"
    }
   },
   "outputs": [],
   "source": [
    "bar_plot(windows_py['Name'], windows_py['Time'], windows_mat['Time'], \"Name\", \"Time\",\"Time Analysis on Windows\", Y_LABEL=\"s\")"
   ]
  },
  {
   "cell_type": "markdown",
   "metadata": {
    "collapsed": false,
    "pycharm": {
     "name": "#%% md\n"
    }
   },
   "source": [
    "## ANALISI SUCCESSIVE"
   ]
  },
  {
   "cell_type": "markdown",
   "metadata": {
    "collapsed": false,
    "pycharm": {
     "name": "#%% md\n"
    }
   },
   "source": [
    "### Condizionamento e Errore\n",
    "Calcoliamo la regressione lineare tra le due variabli"
   ]
  },
  {
   "cell_type": "code",
   "execution_count": null,
   "metadata": {
    "collapsed": false,
    "pycharm": {
     "name": "#%%\n"
    }
   },
   "outputs": [],
   "source": [
    "x = np.array(windows_py['Cond'])\n",
    "y = np.array(windows_py['Error'])\n",
    "\n",
    "correlation(x, y, \"Cond\", \"Error\")"
   ]
  },
  {
   "cell_type": "markdown",
   "metadata": {
    "collapsed": false,
    "pycharm": {
     "name": "#%% md\n"
    }
   },
   "source": [
    "[[1.         0.99999992]\n",
    " [0.99999992 1.        ]]\n",
    "\n",
    "Correlazione forte"
   ]
  },
  {
   "cell_type": "code",
   "execution_count": null,
   "metadata": {
    "collapsed": false,
    "pycharm": {
     "name": "#%%\n"
    }
   },
   "outputs": [],
   "source": []
  },
  {
   "cell_type": "markdown",
   "metadata": {
    "collapsed": false,
    "pycharm": {
     "name": "#%% md\n"
    }
   },
   "source": [
    "# LINUX"
   ]
  },
  {
   "cell_type": "code",
   "execution_count": null,
   "metadata": {
    "collapsed": false,
    "pycharm": {
     "name": "#%%\n"
    }
   },
   "outputs": [],
   "source": [
    "linuxDataset = data.loc[data['OS'] == 1]\n",
    "linuxDataset"
   ]
  },
  {
   "cell_type": "code",
   "execution_count": null,
   "metadata": {
    "collapsed": false,
    "pycharm": {
     "name": "#%%\n"
    }
   },
   "outputs": [],
   "source": [
    "linux_py, linux_mat = get_data_sorted(\"Rows\", linuxDataset)\n",
    "linux_py"
   ]
  },
  {
   "cell_type": "markdown",
   "metadata": {
    "collapsed": false,
    "pycharm": {
     "name": "#%% md\n"
    }
   },
   "source": [
    "### ERROR"
   ]
  },
  {
   "cell_type": "code",
   "execution_count": null,
   "metadata": {
    "collapsed": false,
    "pycharm": {
     "name": "#%%\n"
    }
   },
   "outputs": [],
   "source": [
    "plot(linux_py['Name'], linux_py['Error'], linux_mat['Error'], \"Name\", \"Error\", \"Error Analysis on linux\")\n"
   ]
  },
  {
   "cell_type": "code",
   "execution_count": null,
   "metadata": {
    "collapsed": false,
    "pycharm": {
     "name": "#%%\n"
    }
   },
   "outputs": [],
   "source": [
    "bar_plot(linux_py['Name'], linux_py['Error'], linux_mat['Error'], \"Name\", \"Error\", \"Error Analysis on linux\")\n"
   ]
  },
  {
   "cell_type": "markdown",
   "metadata": {
    "collapsed": false,
    "pycharm": {
     "name": "#%% md\n"
    }
   },
   "source": [
    "### MEMORY"
   ]
  },
  {
   "cell_type": "code",
   "execution_count": null,
   "metadata": {
    "collapsed": false,
    "pycharm": {
     "name": "#%%\n"
    }
   },
   "outputs": [],
   "source": [
    "bar_plot(linux_py['Name'], linux_py['Memory'], linux_mat['Memory'], \"Name\", \"Memory\", \"Memory Analysis on linux\", Y_LABEL=\"MB\")"
   ]
  },
  {
   "cell_type": "code",
   "execution_count": null,
   "metadata": {
    "collapsed": false,
    "pycharm": {
     "name": "#%%\n"
    }
   },
   "outputs": [],
   "source": [
    "plot(linux_py['Name'], linux_py['Memory'], linux_mat['Memory'], \"Name\", \"Memory\", \"Memory Analysis on linux\", Y_LABEL=\"MB\")"
   ]
  },
  {
   "cell_type": "markdown",
   "metadata": {
    "collapsed": false,
    "pycharm": {
     "name": "#%% md\n"
    }
   },
   "source": [
    "### TIME"
   ]
  },
  {
   "cell_type": "code",
   "execution_count": null,
   "metadata": {
    "collapsed": false,
    "pycharm": {
     "name": "#%%\n"
    }
   },
   "outputs": [],
   "source": [
    "plot(linux_py['Name'], linux_py['Time'], linux_mat['Time'], \"Name\", \"Time\",\"Time Analysis on linux\", Y_LABEL=\"s\")"
   ]
  },
  {
   "cell_type": "code",
   "execution_count": null,
   "metadata": {
    "collapsed": false,
    "pycharm": {
     "name": "#%%\n"
    }
   },
   "outputs": [],
   "source": [
    "bar_plot(linux_py['Name'], linux_py['Time'], linux_mat['Time'], \"Name\", \"Time\",\"Time Analysis on linux\", Y_LABEL=\"s\")"
   ]
  }
 ],
 "metadata": {
  "kernelspec": {
   "display_name": "Python 3",
   "language": "python",
   "name": "python3"
  },
  "language_info": {
   "codemirror_mode": {
    "name": "ipython",
    "version": 3
   },
   "file_extension": ".py",
   "mimetype": "text/x-python",
   "name": "python",
   "nbconvert_exporter": "python",
   "pygments_lexer": "ipython3",
   "version": "3.10.2"
  }
 },
 "nbformat": 4,
 "nbformat_minor": 0
}